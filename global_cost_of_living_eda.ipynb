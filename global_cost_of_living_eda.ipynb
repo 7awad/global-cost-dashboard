{
 "cells": [
  {
   "cell_type": "markdown",
   "id": "7bada0fc",
   "metadata": {},
   "source": [
    "# 🌍 Global Cost of Living - EDA Notebook\n",
    "This notebook performs exploratory data analysis (EDA) on the global cost of living dataset."
   ]
  },
  {
   "cell_type": "code",
   "execution_count": 5,
   "id": "452e2d4b",
   "metadata": {},
   "outputs": [
    {
     "data": {
      "text/html": [
       "<div>\n",
       "<style scoped>\n",
       "    .dataframe tbody tr th:only-of-type {\n",
       "        vertical-align: middle;\n",
       "    }\n",
       "\n",
       "    .dataframe tbody tr th {\n",
       "        vertical-align: top;\n",
       "    }\n",
       "\n",
       "    .dataframe thead th {\n",
       "        text-align: right;\n",
       "    }\n",
       "</style>\n",
       "<table border=\"1\" class=\"dataframe\">\n",
       "  <thead>\n",
       "    <tr style=\"text-align: right;\">\n",
       "      <th></th>\n",
       "      <th>city</th>\n",
       "      <th>country</th>\n",
       "      <th>Meal_Inexpensive_Restaurant_USD</th>\n",
       "      <th>Meal_for_2_Midrange_Restaurant_USD</th>\n",
       "      <th>McMeal_McDonalds_USD</th>\n",
       "      <th>Domestic_Beer_Restaurant_USD</th>\n",
       "      <th>Imported_Beer_Restaurant_USD</th>\n",
       "      <th>Cappuccino_Restaurant_USD</th>\n",
       "      <th>CokePepsi_Restaurant_USD</th>\n",
       "      <th>Water_Restaurant_USD</th>\n",
       "      <th>...</th>\n",
       "      <th>Leather_Business_Shoes_USD</th>\n",
       "      <th>Apartment_1br_CityCentre_USD</th>\n",
       "      <th>Apartment_1br_OutsideCentre_USD</th>\n",
       "      <th>Apartment_3br_CityCentre_USD</th>\n",
       "      <th>Apartment_3br_OutsideCentre_USD</th>\n",
       "      <th>Price_m2_Buy_CityCentre_USD</th>\n",
       "      <th>Price_m2_Buy_OutsideCentre_USD</th>\n",
       "      <th>Net_Monthly_Salary_USD</th>\n",
       "      <th>Mortgage_Rate_Percent_Yearly</th>\n",
       "      <th>Data_Quality</th>\n",
       "    </tr>\n",
       "  </thead>\n",
       "  <tbody>\n",
       "    <tr>\n",
       "      <th>0</th>\n",
       "      <td>Seoul</td>\n",
       "      <td>South Korea</td>\n",
       "      <td>7.68</td>\n",
       "      <td>53.78</td>\n",
       "      <td>6.15</td>\n",
       "      <td>3.07</td>\n",
       "      <td>4.99</td>\n",
       "      <td>3.93</td>\n",
       "      <td>1.48</td>\n",
       "      <td>0.79</td>\n",
       "      <td>...</td>\n",
       "      <td>110.36</td>\n",
       "      <td>742.54</td>\n",
       "      <td>557.52</td>\n",
       "      <td>2669.12</td>\n",
       "      <td>1731.08</td>\n",
       "      <td>22067.70</td>\n",
       "      <td>10971.90</td>\n",
       "      <td>2689.62</td>\n",
       "      <td>3.47</td>\n",
       "      <td>1</td>\n",
       "    </tr>\n",
       "    <tr>\n",
       "      <th>1</th>\n",
       "      <td>Shanghai</td>\n",
       "      <td>China</td>\n",
       "      <td>5.69</td>\n",
       "      <td>39.86</td>\n",
       "      <td>5.69</td>\n",
       "      <td>1.14</td>\n",
       "      <td>4.27</td>\n",
       "      <td>3.98</td>\n",
       "      <td>0.53</td>\n",
       "      <td>0.33</td>\n",
       "      <td>...</td>\n",
       "      <td>123.51</td>\n",
       "      <td>1091.93</td>\n",
       "      <td>569.88</td>\n",
       "      <td>2952.70</td>\n",
       "      <td>1561.59</td>\n",
       "      <td>17746.11</td>\n",
       "      <td>9416.35</td>\n",
       "      <td>1419.87</td>\n",
       "      <td>5.03</td>\n",
       "      <td>1</td>\n",
       "    </tr>\n",
       "    <tr>\n",
       "      <th>2</th>\n",
       "      <td>Guangzhou</td>\n",
       "      <td>China</td>\n",
       "      <td>4.13</td>\n",
       "      <td>28.47</td>\n",
       "      <td>4.98</td>\n",
       "      <td>0.85</td>\n",
       "      <td>1.71</td>\n",
       "      <td>3.54</td>\n",
       "      <td>0.44</td>\n",
       "      <td>0.33</td>\n",
       "      <td>...</td>\n",
       "      <td>43.89</td>\n",
       "      <td>533.28</td>\n",
       "      <td>317.45</td>\n",
       "      <td>1242.24</td>\n",
       "      <td>688.05</td>\n",
       "      <td>12892.82</td>\n",
       "      <td>5427.45</td>\n",
       "      <td>1211.68</td>\n",
       "      <td>5.19</td>\n",
       "      <td>1</td>\n",
       "    </tr>\n",
       "    <tr>\n",
       "      <th>3</th>\n",
       "      <td>Mumbai</td>\n",
       "      <td>India</td>\n",
       "      <td>3.68</td>\n",
       "      <td>18.42</td>\n",
       "      <td>3.68</td>\n",
       "      <td>2.46</td>\n",
       "      <td>4.30</td>\n",
       "      <td>2.48</td>\n",
       "      <td>0.48</td>\n",
       "      <td>0.19</td>\n",
       "      <td>...</td>\n",
       "      <td>41.17</td>\n",
       "      <td>522.40</td>\n",
       "      <td>294.05</td>\n",
       "      <td>1411.12</td>\n",
       "      <td>699.80</td>\n",
       "      <td>6092.45</td>\n",
       "      <td>2777.51</td>\n",
       "      <td>640.81</td>\n",
       "      <td>7.96</td>\n",
       "      <td>1</td>\n",
       "    </tr>\n",
       "    <tr>\n",
       "      <th>4</th>\n",
       "      <td>Delhi</td>\n",
       "      <td>India</td>\n",
       "      <td>4.91</td>\n",
       "      <td>22.11</td>\n",
       "      <td>4.30</td>\n",
       "      <td>1.84</td>\n",
       "      <td>3.68</td>\n",
       "      <td>1.77</td>\n",
       "      <td>0.49</td>\n",
       "      <td>0.19</td>\n",
       "      <td>...</td>\n",
       "      <td>36.50</td>\n",
       "      <td>229.84</td>\n",
       "      <td>135.31</td>\n",
       "      <td>601.02</td>\n",
       "      <td>329.15</td>\n",
       "      <td>2506.73</td>\n",
       "      <td>1036.74</td>\n",
       "      <td>586.46</td>\n",
       "      <td>8.06</td>\n",
       "      <td>1</td>\n",
       "    </tr>\n",
       "  </tbody>\n",
       "</table>\n",
       "<p>5 rows × 58 columns</p>\n",
       "</div>"
      ],
      "text/plain": [
       "        city      country  Meal_Inexpensive_Restaurant_USD  \\\n",
       "0      Seoul  South Korea                             7.68   \n",
       "1   Shanghai        China                             5.69   \n",
       "2  Guangzhou        China                             4.13   \n",
       "3     Mumbai        India                             3.68   \n",
       "4      Delhi        India                             4.91   \n",
       "\n",
       "   Meal_for_2_Midrange_Restaurant_USD  McMeal_McDonalds_USD  \\\n",
       "0                               53.78                  6.15   \n",
       "1                               39.86                  5.69   \n",
       "2                               28.47                  4.98   \n",
       "3                               18.42                  3.68   \n",
       "4                               22.11                  4.30   \n",
       "\n",
       "   Domestic_Beer_Restaurant_USD  Imported_Beer_Restaurant_USD  \\\n",
       "0                          3.07                          4.99   \n",
       "1                          1.14                          4.27   \n",
       "2                          0.85                          1.71   \n",
       "3                          2.46                          4.30   \n",
       "4                          1.84                          3.68   \n",
       "\n",
       "   Cappuccino_Restaurant_USD  CokePepsi_Restaurant_USD  Water_Restaurant_USD  \\\n",
       "0                       3.93                      1.48                  0.79   \n",
       "1                       3.98                      0.53                  0.33   \n",
       "2                       3.54                      0.44                  0.33   \n",
       "3                       2.48                      0.48                  0.19   \n",
       "4                       1.77                      0.49                  0.19   \n",
       "\n",
       "   ...  Leather_Business_Shoes_USD  Apartment_1br_CityCentre_USD  \\\n",
       "0  ...                      110.36                        742.54   \n",
       "1  ...                      123.51                       1091.93   \n",
       "2  ...                       43.89                        533.28   \n",
       "3  ...                       41.17                        522.40   \n",
       "4  ...                       36.50                        229.84   \n",
       "\n",
       "   Apartment_1br_OutsideCentre_USD  Apartment_3br_CityCentre_USD  \\\n",
       "0                           557.52                       2669.12   \n",
       "1                           569.88                       2952.70   \n",
       "2                           317.45                       1242.24   \n",
       "3                           294.05                       1411.12   \n",
       "4                           135.31                        601.02   \n",
       "\n",
       "   Apartment_3br_OutsideCentre_USD  Price_m2_Buy_CityCentre_USD  \\\n",
       "0                          1731.08                     22067.70   \n",
       "1                          1561.59                     17746.11   \n",
       "2                           688.05                     12892.82   \n",
       "3                           699.80                      6092.45   \n",
       "4                           329.15                      2506.73   \n",
       "\n",
       "   Price_m2_Buy_OutsideCentre_USD  Net_Monthly_Salary_USD  \\\n",
       "0                        10971.90                 2689.62   \n",
       "1                         9416.35                 1419.87   \n",
       "2                         5427.45                 1211.68   \n",
       "3                         2777.51                  640.81   \n",
       "4                         1036.74                  586.46   \n",
       "\n",
       "   Mortgage_Rate_Percent_Yearly  Data_Quality  \n",
       "0                          3.47             1  \n",
       "1                          5.03             1  \n",
       "2                          5.19             1  \n",
       "3                          7.96             1  \n",
       "4                          8.06             1  \n",
       "\n",
       "[5 rows x 58 columns]"
      ]
     },
     "execution_count": 5,
     "metadata": {},
     "output_type": "execute_result"
    }
   ],
   "source": [
    "\n",
    "import pandas as pd\n",
    "import matplotlib.pyplot as plt\n",
    "import seaborn as sns\n",
    "import plotly.express as px\n",
    "\n",
    "# Load dataset\n",
    "df = pd.read_csv('./data/cost_of_living.csv')\n",
    "\n",
    "# Preview\n",
    "df.head()\n"
   ]
  },
  {
   "cell_type": "markdown",
   "id": "5c9071e3",
   "metadata": {},
   "source": [
    "## ✅ Data Cleaning - Filter Reliable Entries"
   ]
  },
  {
   "cell_type": "code",
   "execution_count": 7,
   "id": "8bd6adab",
   "metadata": {},
   "outputs": [
    {
     "name": "stdout",
     "output_type": "stream",
     "text": [
      "Filtered dataset shape: (923, 58)\n"
     ]
    }
   ],
   "source": [
    "df = df[df['Data_Quality'] == 1]\n",
    "df.reset_index(drop=True, inplace=True)\n",
    "print(f\"Filtered dataset shape: {df.shape}\")"
   ]
  },
  {
   "cell_type": "markdown",
   "id": "4d1f984a",
   "metadata": {},
   "source": [
    "## 📊 Summary Statistics"
   ]
  },
  {
   "cell_type": "code",
   "execution_count": 8,
   "id": "0b55735b",
   "metadata": {},
   "outputs": [
    {
     "data": {
      "text/html": [
       "<div>\n",
       "<style scoped>\n",
       "    .dataframe tbody tr th:only-of-type {\n",
       "        vertical-align: middle;\n",
       "    }\n",
       "\n",
       "    .dataframe tbody tr th {\n",
       "        vertical-align: top;\n",
       "    }\n",
       "\n",
       "    .dataframe thead th {\n",
       "        text-align: right;\n",
       "    }\n",
       "</style>\n",
       "<table border=\"1\" class=\"dataframe\">\n",
       "  <thead>\n",
       "    <tr style=\"text-align: right;\">\n",
       "      <th></th>\n",
       "      <th>Meal_Inexpensive_Restaurant_USD</th>\n",
       "      <th>Meal_for_2_Midrange_Restaurant_USD</th>\n",
       "      <th>McMeal_McDonalds_USD</th>\n",
       "      <th>Domestic_Beer_Restaurant_USD</th>\n",
       "      <th>Imported_Beer_Restaurant_USD</th>\n",
       "      <th>Cappuccino_Restaurant_USD</th>\n",
       "      <th>CokePepsi_Restaurant_USD</th>\n",
       "      <th>Water_Restaurant_USD</th>\n",
       "      <th>Milk_1L_USD</th>\n",
       "      <th>Bread_500g_USD</th>\n",
       "      <th>...</th>\n",
       "      <th>Leather_Business_Shoes_USD</th>\n",
       "      <th>Apartment_1br_CityCentre_USD</th>\n",
       "      <th>Apartment_1br_OutsideCentre_USD</th>\n",
       "      <th>Apartment_3br_CityCentre_USD</th>\n",
       "      <th>Apartment_3br_OutsideCentre_USD</th>\n",
       "      <th>Price_m2_Buy_CityCentre_USD</th>\n",
       "      <th>Price_m2_Buy_OutsideCentre_USD</th>\n",
       "      <th>Net_Monthly_Salary_USD</th>\n",
       "      <th>Mortgage_Rate_Percent_Yearly</th>\n",
       "      <th>Data_Quality</th>\n",
       "    </tr>\n",
       "  </thead>\n",
       "  <tbody>\n",
       "    <tr>\n",
       "      <th>count</th>\n",
       "      <td>923.000000</td>\n",
       "      <td>923.000000</td>\n",
       "      <td>923.000000</td>\n",
       "      <td>922.000000</td>\n",
       "      <td>922.000000</td>\n",
       "      <td>923.000000</td>\n",
       "      <td>922.000000</td>\n",
       "      <td>923.000000</td>\n",
       "      <td>923.000000</td>\n",
       "      <td>923.000000</td>\n",
       "      <td>...</td>\n",
       "      <td>923.000000</td>\n",
       "      <td>923.000000</td>\n",
       "      <td>923.000000</td>\n",
       "      <td>923.000000</td>\n",
       "      <td>923.000000</td>\n",
       "      <td>902.000000</td>\n",
       "      <td>898.000000</td>\n",
       "      <td>922.000000</td>\n",
       "      <td>910.000000</td>\n",
       "      <td>923.0</td>\n",
       "    </tr>\n",
       "    <tr>\n",
       "      <th>mean</th>\n",
       "      <td>11.101213</td>\n",
       "      <td>49.688472</td>\n",
       "      <td>7.341788</td>\n",
       "      <td>3.759132</td>\n",
       "      <td>4.253438</td>\n",
       "      <td>2.891376</td>\n",
       "      <td>1.658113</td>\n",
       "      <td>1.214041</td>\n",
       "      <td>1.233987</td>\n",
       "      <td>1.669339</td>\n",
       "      <td>...</td>\n",
       "      <td>93.646284</td>\n",
       "      <td>810.922665</td>\n",
       "      <td>622.028884</td>\n",
       "      <td>1462.141170</td>\n",
       "      <td>1086.091712</td>\n",
       "      <td>3957.168415</td>\n",
       "      <td>2809.604644</td>\n",
       "      <td>1986.767408</td>\n",
       "      <td>6.322659</td>\n",
       "      <td>1.0</td>\n",
       "    </tr>\n",
       "    <tr>\n",
       "      <th>std</th>\n",
       "      <td>6.359318</td>\n",
       "      <td>24.894120</td>\n",
       "      <td>2.638659</td>\n",
       "      <td>2.146642</td>\n",
       "      <td>2.059858</td>\n",
       "      <td>1.221266</td>\n",
       "      <td>0.891653</td>\n",
       "      <td>0.762596</td>\n",
       "      <td>0.530538</td>\n",
       "      <td>1.011659</td>\n",
       "      <td>...</td>\n",
       "      <td>36.307993</td>\n",
       "      <td>608.752189</td>\n",
       "      <td>484.091297</td>\n",
       "      <td>1041.781398</td>\n",
       "      <td>779.629339</td>\n",
       "      <td>4478.212467</td>\n",
       "      <td>3453.518787</td>\n",
       "      <td>1591.282090</td>\n",
       "      <td>5.015935</td>\n",
       "      <td>0.0</td>\n",
       "    </tr>\n",
       "    <tr>\n",
       "      <th>min</th>\n",
       "      <td>1.230000</td>\n",
       "      <td>5.650000</td>\n",
       "      <td>2.170000</td>\n",
       "      <td>0.570000</td>\n",
       "      <td>0.500000</td>\n",
       "      <td>0.300000</td>\n",
       "      <td>0.180000</td>\n",
       "      <td>0.110000</td>\n",
       "      <td>0.400000</td>\n",
       "      <td>0.110000</td>\n",
       "      <td>...</td>\n",
       "      <td>19.740000</td>\n",
       "      <td>52.150000</td>\n",
       "      <td>40.230000</td>\n",
       "      <td>103.930000</td>\n",
       "      <td>72.640000</td>\n",
       "      <td>181.040000</td>\n",
       "      <td>123.020000</td>\n",
       "      <td>35.750000</td>\n",
       "      <td>0.800000</td>\n",
       "      <td>1.0</td>\n",
       "    </tr>\n",
       "    <tr>\n",
       "      <th>25%</th>\n",
       "      <td>5.490000</td>\n",
       "      <td>29.440000</td>\n",
       "      <td>5.540000</td>\n",
       "      <td>1.900000</td>\n",
       "      <td>2.605000</td>\n",
       "      <td>1.760000</td>\n",
       "      <td>0.910000</td>\n",
       "      <td>0.540000</td>\n",
       "      <td>0.920000</td>\n",
       "      <td>0.890000</td>\n",
       "      <td>...</td>\n",
       "      <td>71.840000</td>\n",
       "      <td>354.980000</td>\n",
       "      <td>250.975000</td>\n",
       "      <td>666.670000</td>\n",
       "      <td>455.025000</td>\n",
       "      <td>1618.917500</td>\n",
       "      <td>1104.607500</td>\n",
       "      <td>565.892500</td>\n",
       "      <td>2.960000</td>\n",
       "      <td>1.0</td>\n",
       "    </tr>\n",
       "    <tr>\n",
       "      <th>50%</th>\n",
       "      <td>11.070000</td>\n",
       "      <td>50.000000</td>\n",
       "      <td>7.380000</td>\n",
       "      <td>3.690000</td>\n",
       "      <td>4.045000</td>\n",
       "      <td>2.930000</td>\n",
       "      <td>1.660000</td>\n",
       "      <td>1.190000</td>\n",
       "      <td>1.120000</td>\n",
       "      <td>1.460000</td>\n",
       "      <td>...</td>\n",
       "      <td>92.650000</td>\n",
       "      <td>667.370000</td>\n",
       "      <td>504.740000</td>\n",
       "      <td>1240.250000</td>\n",
       "      <td>916.710000</td>\n",
       "      <td>2774.860000</td>\n",
       "      <td>1942.380000</td>\n",
       "      <td>1569.020000</td>\n",
       "      <td>5.135000</td>\n",
       "      <td>1.0</td>\n",
       "    </tr>\n",
       "    <tr>\n",
       "      <th>75%</th>\n",
       "      <td>15.810000</td>\n",
       "      <td>65.595000</td>\n",
       "      <td>8.890000</td>\n",
       "      <td>5.265000</td>\n",
       "      <td>5.685000</td>\n",
       "      <td>3.700000</td>\n",
       "      <td>2.290000</td>\n",
       "      <td>1.710000</td>\n",
       "      <td>1.400000</td>\n",
       "      <td>2.250000</td>\n",
       "      <td>...</td>\n",
       "      <td>113.740000</td>\n",
       "      <td>1096.320000</td>\n",
       "      <td>863.935000</td>\n",
       "      <td>1958.430000</td>\n",
       "      <td>1492.065000</td>\n",
       "      <td>4919.370000</td>\n",
       "      <td>3436.817500</td>\n",
       "      <td>3042.475000</td>\n",
       "      <td>8.117500</td>\n",
       "      <td>1.0</td>\n",
       "    </tr>\n",
       "    <tr>\n",
       "      <th>max</th>\n",
       "      <td>36.900000</td>\n",
       "      <td>150.000000</td>\n",
       "      <td>18.350000</td>\n",
       "      <td>12.520000</td>\n",
       "      <td>17.500000</td>\n",
       "      <td>6.020000</td>\n",
       "      <td>5.040000</td>\n",
       "      <td>4.420000</td>\n",
       "      <td>6.810000</td>\n",
       "      <td>6.850000</td>\n",
       "      <td>...</td>\n",
       "      <td>542.740000</td>\n",
       "      <td>6678.300000</td>\n",
       "      <td>4996.720000</td>\n",
       "      <td>7146.840000</td>\n",
       "      <td>4325.000000</td>\n",
       "      <td>68333.330000</td>\n",
       "      <td>53428.110000</td>\n",
       "      <td>7935.380000</td>\n",
       "      <td>50.000000</td>\n",
       "      <td>1.0</td>\n",
       "    </tr>\n",
       "  </tbody>\n",
       "</table>\n",
       "<p>8 rows × 56 columns</p>\n",
       "</div>"
      ],
      "text/plain": [
       "       Meal_Inexpensive_Restaurant_USD  Meal_for_2_Midrange_Restaurant_USD  \\\n",
       "count                       923.000000                          923.000000   \n",
       "mean                         11.101213                           49.688472   \n",
       "std                           6.359318                           24.894120   \n",
       "min                           1.230000                            5.650000   \n",
       "25%                           5.490000                           29.440000   \n",
       "50%                          11.070000                           50.000000   \n",
       "75%                          15.810000                           65.595000   \n",
       "max                          36.900000                          150.000000   \n",
       "\n",
       "       McMeal_McDonalds_USD  Domestic_Beer_Restaurant_USD  \\\n",
       "count            923.000000                    922.000000   \n",
       "mean               7.341788                      3.759132   \n",
       "std                2.638659                      2.146642   \n",
       "min                2.170000                      0.570000   \n",
       "25%                5.540000                      1.900000   \n",
       "50%                7.380000                      3.690000   \n",
       "75%                8.890000                      5.265000   \n",
       "max               18.350000                     12.520000   \n",
       "\n",
       "       Imported_Beer_Restaurant_USD  Cappuccino_Restaurant_USD  \\\n",
       "count                    922.000000                 923.000000   \n",
       "mean                       4.253438                   2.891376   \n",
       "std                        2.059858                   1.221266   \n",
       "min                        0.500000                   0.300000   \n",
       "25%                        2.605000                   1.760000   \n",
       "50%                        4.045000                   2.930000   \n",
       "75%                        5.685000                   3.700000   \n",
       "max                       17.500000                   6.020000   \n",
       "\n",
       "       CokePepsi_Restaurant_USD  Water_Restaurant_USD  Milk_1L_USD  \\\n",
       "count                922.000000            923.000000   923.000000   \n",
       "mean                   1.658113              1.214041     1.233987   \n",
       "std                    0.891653              0.762596     0.530538   \n",
       "min                    0.180000              0.110000     0.400000   \n",
       "25%                    0.910000              0.540000     0.920000   \n",
       "50%                    1.660000              1.190000     1.120000   \n",
       "75%                    2.290000              1.710000     1.400000   \n",
       "max                    5.040000              4.420000     6.810000   \n",
       "\n",
       "       Bread_500g_USD  ...  Leather_Business_Shoes_USD  \\\n",
       "count      923.000000  ...                  923.000000   \n",
       "mean         1.669339  ...                   93.646284   \n",
       "std          1.011659  ...                   36.307993   \n",
       "min          0.110000  ...                   19.740000   \n",
       "25%          0.890000  ...                   71.840000   \n",
       "50%          1.460000  ...                   92.650000   \n",
       "75%          2.250000  ...                  113.740000   \n",
       "max          6.850000  ...                  542.740000   \n",
       "\n",
       "       Apartment_1br_CityCentre_USD  Apartment_1br_OutsideCentre_USD  \\\n",
       "count                    923.000000                       923.000000   \n",
       "mean                     810.922665                       622.028884   \n",
       "std                      608.752189                       484.091297   \n",
       "min                       52.150000                        40.230000   \n",
       "25%                      354.980000                       250.975000   \n",
       "50%                      667.370000                       504.740000   \n",
       "75%                     1096.320000                       863.935000   \n",
       "max                     6678.300000                      4996.720000   \n",
       "\n",
       "       Apartment_3br_CityCentre_USD  Apartment_3br_OutsideCentre_USD  \\\n",
       "count                    923.000000                       923.000000   \n",
       "mean                    1462.141170                      1086.091712   \n",
       "std                     1041.781398                       779.629339   \n",
       "min                      103.930000                        72.640000   \n",
       "25%                      666.670000                       455.025000   \n",
       "50%                     1240.250000                       916.710000   \n",
       "75%                     1958.430000                      1492.065000   \n",
       "max                     7146.840000                      4325.000000   \n",
       "\n",
       "       Price_m2_Buy_CityCentre_USD  Price_m2_Buy_OutsideCentre_USD  \\\n",
       "count                   902.000000                      898.000000   \n",
       "mean                   3957.168415                     2809.604644   \n",
       "std                    4478.212467                     3453.518787   \n",
       "min                     181.040000                      123.020000   \n",
       "25%                    1618.917500                     1104.607500   \n",
       "50%                    2774.860000                     1942.380000   \n",
       "75%                    4919.370000                     3436.817500   \n",
       "max                   68333.330000                    53428.110000   \n",
       "\n",
       "       Net_Monthly_Salary_USD  Mortgage_Rate_Percent_Yearly  Data_Quality  \n",
       "count              922.000000                    910.000000         923.0  \n",
       "mean              1986.767408                      6.322659           1.0  \n",
       "std               1591.282090                      5.015935           0.0  \n",
       "min                 35.750000                      0.800000           1.0  \n",
       "25%                565.892500                      2.960000           1.0  \n",
       "50%               1569.020000                      5.135000           1.0  \n",
       "75%               3042.475000                      8.117500           1.0  \n",
       "max               7935.380000                     50.000000           1.0  \n",
       "\n",
       "[8 rows x 56 columns]"
      ]
     },
     "execution_count": 8,
     "metadata": {},
     "output_type": "execute_result"
    }
   ],
   "source": [
    "df.describe()"
   ]
  },
  {
   "cell_type": "markdown",
   "id": "ae6fed8d",
   "metadata": {},
   "source": [
    "## 🏙️ Top 10 Most Expensive Cities (Cost Index Proxy)"
   ]
  },
  {
   "cell_type": "code",
   "execution_count": 10,
   "id": "838ad074",
   "metadata": {},
   "outputs": [
    {
     "data": {
      "text/html": [
       "<div>\n",
       "<style scoped>\n",
       "    .dataframe tbody tr th:only-of-type {\n",
       "        vertical-align: middle;\n",
       "    }\n",
       "\n",
       "    .dataframe tbody tr th {\n",
       "        vertical-align: top;\n",
       "    }\n",
       "\n",
       "    .dataframe thead th {\n",
       "        text-align: right;\n",
       "    }\n",
       "</style>\n",
       "<table border=\"1\" class=\"dataframe\">\n",
       "  <thead>\n",
       "    <tr style=\"text-align: right;\">\n",
       "      <th></th>\n",
       "      <th>city</th>\n",
       "      <th>country</th>\n",
       "      <th>Leather_Business_Shoes_USD</th>\n",
       "    </tr>\n",
       "  </thead>\n",
       "  <tbody>\n",
       "    <tr>\n",
       "      <th>188</th>\n",
       "      <td>Tabriz</td>\n",
       "      <td>Iran</td>\n",
       "      <td>542.74</td>\n",
       "    </tr>\n",
       "    <tr>\n",
       "      <th>815</th>\n",
       "      <td>Al Fujayrah</td>\n",
       "      <td>United Arab Emirates</td>\n",
       "      <td>275.88</td>\n",
       "    </tr>\n",
       "    <tr>\n",
       "      <th>756</th>\n",
       "      <td>Annecy</td>\n",
       "      <td>France</td>\n",
       "      <td>219.53</td>\n",
       "    </tr>\n",
       "    <tr>\n",
       "      <th>733</th>\n",
       "      <td>Lausanne</td>\n",
       "      <td>Switzerland</td>\n",
       "      <td>215.56</td>\n",
       "    </tr>\n",
       "    <tr>\n",
       "      <th>409</th>\n",
       "      <td>Bakersfield</td>\n",
       "      <td>United States</td>\n",
       "      <td>201.00</td>\n",
       "    </tr>\n",
       "    <tr>\n",
       "      <th>685</th>\n",
       "      <td>Haarlem</td>\n",
       "      <td>Netherlands</td>\n",
       "      <td>190.99</td>\n",
       "    </tr>\n",
       "    <tr>\n",
       "      <th>620</th>\n",
       "      <td>Geneva</td>\n",
       "      <td>Switzerland</td>\n",
       "      <td>186.57</td>\n",
       "    </tr>\n",
       "    <tr>\n",
       "      <th>312</th>\n",
       "      <td>Reykjavik</td>\n",
       "      <td>Iceland</td>\n",
       "      <td>182.79</td>\n",
       "    </tr>\n",
       "    <tr>\n",
       "      <th>646</th>\n",
       "      <td>Oulu</td>\n",
       "      <td>Finland</td>\n",
       "      <td>181.75</td>\n",
       "    </tr>\n",
       "    <tr>\n",
       "      <th>460</th>\n",
       "      <td>Zurich</td>\n",
       "      <td>Switzerland</td>\n",
       "      <td>181.22</td>\n",
       "    </tr>\n",
       "  </tbody>\n",
       "</table>\n",
       "</div>"
      ],
      "text/plain": [
       "            city               country  Leather_Business_Shoes_USD\n",
       "188       Tabriz                  Iran                      542.74\n",
       "815  Al Fujayrah  United Arab Emirates                      275.88\n",
       "756       Annecy                France                      219.53\n",
       "733     Lausanne           Switzerland                      215.56\n",
       "409  Bakersfield         United States                      201.00\n",
       "685      Haarlem           Netherlands                      190.99\n",
       "620       Geneva           Switzerland                      186.57\n",
       "312    Reykjavik               Iceland                      182.79\n",
       "646         Oulu               Finland                      181.75\n",
       "460       Zurich           Switzerland                      181.22"
      ]
     },
     "execution_count": 10,
     "metadata": {},
     "output_type": "execute_result"
    }
   ],
   "source": [
    "\n",
    "top_cities = df[['city', 'country', 'Leather_Business_Shoes_USD']].dropna().sort_values(by='Leather_Business_Shoes_USD', ascending=False).head(10)\n",
    "top_cities\n"
   ]
  },
  {
   "cell_type": "code",
   "execution_count": 12,
   "id": "abd80304",
   "metadata": {},
   "outputs": [
    {
     "data": {
      "image/png": "[encoded data removed]",
      "text/plain": [
       "<Figure size 1000x600 with 1 Axes>"
      ]
     },
     "metadata": {},
     "output_type": "display_data"
    }
   ],
   "source": [
    "plt.figure(figsize=(10,6))\n",
    "sns.barplot(data=top_cities, x='Leather_Business_Shoes_USD', y='city', hue='country')\n",
    "plt.title('Top 10 Most Expensive Cities (based on Leather Business Shoes Cost)')\n",
    "plt.xlabel('Leather Business Shoes (USD)')\n",
    "plt.ylabel('City')\n",
    "plt.tight_layout()\n",
    "plt.show()"
   ]
  },
  {
   "cell_type": "markdown",
   "id": "6c0cb65d",
   "metadata": {},
   "source": [
    "## 🌐 Average Cost Index by Country"
   ]
  },
  {
   "cell_type": "code",
   "execution_count": 14,
   "id": "c87889c7",
   "metadata": {},
   "outputs": [
    {
     "data": {
      "text/html": [
       "<div>\n",
       "<style scoped>\n",
       "    .dataframe tbody tr th:only-of-type {\n",
       "        vertical-align: middle;\n",
       "    }\n",
       "\n",
       "    .dataframe tbody tr th {\n",
       "        vertical-align: top;\n",
       "    }\n",
       "\n",
       "    .dataframe thead th {\n",
       "        text-align: right;\n",
       "    }\n",
       "</style>\n",
       "<table border=\"1\" class=\"dataframe\">\n",
       "  <thead>\n",
       "    <tr style=\"text-align: right;\">\n",
       "      <th></th>\n",
       "      <th>country</th>\n",
       "      <th>Leather_Business_Shoes_USD</th>\n",
       "    </tr>\n",
       "  </thead>\n",
       "  <tbody>\n",
       "    <tr>\n",
       "      <th>0</th>\n",
       "      <td>Iceland</td>\n",
       "      <td>182.790000</td>\n",
       "    </tr>\n",
       "    <tr>\n",
       "      <th>1</th>\n",
       "      <td>Iran</td>\n",
       "      <td>163.120000</td>\n",
       "    </tr>\n",
       "    <tr>\n",
       "      <th>2</th>\n",
       "      <td>Switzerland</td>\n",
       "      <td>161.495455</td>\n",
       "    </tr>\n",
       "    <tr>\n",
       "      <th>3</th>\n",
       "      <td>Luxembourg</td>\n",
       "      <td>148.840000</td>\n",
       "    </tr>\n",
       "    <tr>\n",
       "      <th>4</th>\n",
       "      <td>Malta</td>\n",
       "      <td>143.470000</td>\n",
       "    </tr>\n",
       "    <tr>\n",
       "      <th>5</th>\n",
       "      <td>Bermuda</td>\n",
       "      <td>141.330000</td>\n",
       "    </tr>\n",
       "    <tr>\n",
       "      <th>6</th>\n",
       "      <td>New Caledonia</td>\n",
       "      <td>136.870000</td>\n",
       "    </tr>\n",
       "    <tr>\n",
       "      <th>7</th>\n",
       "      <td>Finland</td>\n",
       "      <td>136.520000</td>\n",
       "    </tr>\n",
       "    <tr>\n",
       "      <th>8</th>\n",
       "      <td>Hong Kong</td>\n",
       "      <td>135.720000</td>\n",
       "    </tr>\n",
       "    <tr>\n",
       "      <th>9</th>\n",
       "      <td>Denmark</td>\n",
       "      <td>134.284000</td>\n",
       "    </tr>\n",
       "  </tbody>\n",
       "</table>\n",
       "</div>"
      ],
      "text/plain": [
       "         country  Leather_Business_Shoes_USD\n",
       "0        Iceland                  182.790000\n",
       "1           Iran                  163.120000\n",
       "2    Switzerland                  161.495455\n",
       "3     Luxembourg                  148.840000\n",
       "4          Malta                  143.470000\n",
       "5        Bermuda                  141.330000\n",
       "6  New Caledonia                  136.870000\n",
       "7        Finland                  136.520000\n",
       "8      Hong Kong                  135.720000\n",
       "9        Denmark                  134.284000"
      ]
     },
     "execution_count": 14,
     "metadata": {},
     "output_type": "execute_result"
    }
   ],
   "source": [
    "\n",
    "country_avg = df.groupby('country')['Leather_Business_Shoes_USD'].mean().sort_values(ascending=False).reset_index()\n",
    "country_avg.head(10)\n"
   ]
  },
  {
   "cell_type": "markdown",
   "id": "8c03d2e9",
   "metadata": {},
   "source": [
    "## 🗺️ Choropleth Map of Average Cost Index by Country"
   ]
  },
  {
   "cell_type": "code",
   "execution_count": 17,
   "id": "ba59b9a1",
   "metadata": {},
   "outputs": [
    {
     "data": {
      "application/vnd.plotly.v1+json": {
       "config": {
        "plotlyServerURL": "https://plot.ly"
       },
       "data": [
        {
         "coloraxis": "coloraxis",
         "geo": "geo",
         "hovertemplate": "<b>%{hovertext}</b><br><br>country=%{location}<br>Leather_Business_Shoes_USD=%{z}<extra></extra>",
         "hovertext": [
          "Iceland",
          "Iran",
          "Switzerland",
          "Luxembourg",
          "Malta",
          "Bermuda",
          "New Caledonia",
          "Finland",
          "Hong Kong",
          "Denmark",
          "Israel",
          "Austria",
          "Norway",
          "Sweden",
          "France",
          "Latvia",
          "Italy",
          "Lebanon",
          "Netherlands",
          "Belize",
          "Bahamas",
          "New Zealand",
          "Belgium",
          "Barbados",
          "United Arab Emirates",
          "Kuwait",
          "Russia",
          "Germany",
          "Mozambique",
          "Singapore",
          "Montenegro",
          "Jersey",
          "Papua New Guinea",
          "Georgia",
          "Uruguay",
          "Guatemala",
          "Estonia",
          "South Korea",
          "United States",
          "Taiwan",
          "Trinidad And Tobago",
          "Australia",
          "Zambia",
          "Cyprus",
          "Dominican Republic",
          "Lithuania",
          "Slovenia",
          "Czech Republic",
          "Canada",
          "Uzbekistan",
          "Japan",
          "Belarus",
          "Moldova",
          "Saudi Arabia",
          "Qatar",
          "Argentina",
          "Curacao",
          "Oman",
          "Bosnia And Herzegovina",
          "Armenia",
          "China",
          "Gibraltar",
          "Serbia",
          "Albania",
          "Spain",
          "Greece",
          "Panama",
          "Nicaragua",
          "Ireland",
          "Slovakia",
          "Ivory Coast",
          "Kazakhstan",
          "Malawi",
          "Croatia",
          "United Kingdom",
          "Algeria",
          "Honduras",
          "Bulgaria",
          "Maldives",
          "Romania",
          "Mongolia",
          "Jordan",
          "Poland",
          "Ecuador",
          "South Africa",
          "Thailand",
          "Vietnam",
          "Portugal",
          "Costa Rica",
          "Cuba",
          "Ukraine",
          "Bahrain",
          "Mexico",
          "Paraguay",
          "Bolivia",
          "Senegal",
          "Indonesia",
          "North Macedonia",
          "Nigeria",
          "Madagascar",
          "Azerbaijan",
          "Brunei",
          "Philippines",
          "Hungary",
          "Cameroon",
          "Peru",
          "Venezuela",
          "Morocco",
          "Syria",
          "Jamaica",
          "Libya",
          "Guyana",
          "Seychelles",
          "Chile",
          "Namibia",
          "Uganda",
          "Tunisia",
          "Malaysia",
          "Kyrgyzstan",
          "Ethiopia",
          "Tanzania",
          "Yemen",
          "Brazil",
          "Kosovo (Disputed Territory)",
          "Botswana",
          "Fiji",
          "Tajikistan",
          "Zimbabwe",
          "Iraq",
          "Bhutan",
          "Isle Of Man",
          "Rwanda",
          "Turkey",
          "Somalia",
          "Kenya",
          "Nepal",
          "Colombia",
          "Sudan",
          "Cambodia",
          "Egypt",
          "Bangladesh",
          "Afghanistan",
          "India",
          "Pakistan",
          "Sri Lanka",
          "Ghana"
         ],
         "locationmode": "country names",
         "locations": [
          "Iceland",
          "Iran",
          "Switzerland",
          "Luxembourg",
          "Malta",
          "Bermuda",
          "New Caledonia",
          "Finland",
          "Hong Kong",
          "Denmark",
          "Israel",
          "Austria",
          "Norway",
          "Sweden",
          "France",
          "Latvia",
          "Italy",
          "Lebanon",
          "Netherlands",
          "Belize",
          "Bahamas",
          "New Zealand",
          "Belgium",
          "Barbados",
          "United Arab Emirates",
          "Kuwait",
          "Russia",
          "Germany",
          "Mozambique",
          "Singapore",
          "Montenegro",
          "Jersey",
          "Papua New Guinea",
          "Georgia",
          "Uruguay",
          "Guatemala",
          "Estonia",
          "South Korea",
          "United States",
          "Taiwan",
          "Trinidad And Tobago",
          "Australia",
          "Zambia",
          "Cyprus",
          "Dominican Republic",
          "Lithuania",
          "Slovenia",
          "Czech Republic",
          "Canada",
          "Uzbekistan",
          "Japan",
          "Belarus",
          "Moldova",
          "Saudi Arabia",
          "Qatar",
          "Argentina",
          "Curacao",
          "Oman",
          "Bosnia And Herzegovina",
          "Armenia",
          "China",
          "Gibraltar",
          "Serbia",
          "Albania",
          "Spain",
          "Greece",
          "Panama",
          "Nicaragua",
          "Ireland",
          "Slovakia",
          "Ivory Coast",
          "Kazakhstan",
          "Malawi",
          "Croatia",
          "United Kingdom",
          "Algeria",
          "Honduras",
          "Bulgaria",
          "Maldives",
          "Romania",
          "Mongolia",
          "Jordan",
          "Poland",
          "Ecuador",
          "South Africa",
          "Thailand",
          "Vietnam",
          "Portugal",
          "Costa Rica",
          "Cuba",
          "Ukraine",
          "Bahrain",
          "Mexico",
          "Paraguay",
          "Bolivia",
          "Senegal",
          "Indonesia",
          "North Macedonia",
          "Nigeria",
          "Madagascar",
          "Azerbaijan",
          "Brunei",
          "Philippines",
          "Hungary",
          "Cameroon",
          "Peru",
          "Venezuela",
          "Morocco",
          "Syria",
          "Jamaica",
          "Libya",
          "Guyana",
          "Seychelles",
          "Chile",
          "Namibia",
          "Uganda",
          "Tunisia",
          "Malaysia",
          "Kyrgyzstan",
          "Ethiopia",
          "Tanzania",
          "Yemen",
          "Brazil",
          "Kosovo (Disputed Territory)",
          "Botswana",
          "Fiji",
          "Tajikistan",
          "Zimbabwe",
          "Iraq",
          "Bhutan",
          "Isle Of Man",
          "Rwanda",
          "Turkey",
          "Somalia",
          "Kenya",
          "Nepal",
          "Colombia",
          "Sudan",
          "Cambodia",
          "Egypt",
          "Bangladesh",
          "Afghanistan",
          "India",
          "Pakistan",
          "Sri Lanka",
          "Ghana"
         ],
         "name": "",
         "type": "choropleth",
         "z": [
          182.79,
          163.12,
          161.49545454545455,
          148.84,
          143.47,
          141.33,
          136.87,
          136.52,
          135.72,
          134.28400000000002,
          132.23066666666668,
          131.43666666666667,
          131.34285714285713,
          130.8725,
          127.77214285714285,
          123.91999999999999,
          122.77944444444445,
          121.67,
          121.42736842105262,
          120.18,
          120,
          119.60142857142857,
          119.38166666666666,
          118.75,
          118.252,
          117.94,
          117.75,
          117.47375,
          117.46,
          115.29,
          115.12,
          115.09,
          113.09,
          112.67,
          110.87,
          109.99,
          109.435,
          108.06333333333333,
          107.84173553719009,
          107.0875,
          106.39,
          106.02666666666667,
          105.64,
          104.1225,
          102.58,
          102.31666666666666,
          100.7125,
          99.87375,
          99.35234042553192,
          99.12,
          98.61714285714287,
          98.15,
          97.77,
          96.262,
          95.35,
          94.88,
          93.71,
          93.34,
          93.2475,
          93.07,
          92.5864705882353,
          92.25,
          91.565,
          90.24666666666667,
          90.01545454545455,
          89.72777777777777,
          89,
          88.96,
          88.90666666666668,
          88.61285714285714,
          88.35,
          87.74333333333334,
          86.01,
          85.64857142857143,
          85.10517857142858,
          85.09,
          84.63,
          84.5,
          83.24,
          82.715,
          82.67,
          82.095,
          80.31466666666667,
          80.22333333333333,
          79.81166666666667,
          78.37333333333333,
          78.31,
          78.28785714285713,
          78.125,
          78,
          77.94800000000001,
          77.68,
          76.05421052631579,
          74.47,
          73.14,
          73.09,
          71.56571428571428,
          71.21,
          71.19,
          68.73,
          68.41,
          68.18,
          67.28999999999999,
          67.03999999999999,
          66.935,
          66.15333333333334,
          66.08,
          64.89625,
          64.64,
          64.5,
          63.79,
          62.86,
          61.01,
          60.64666666666667,
          60.02,
          59.78,
          58.724000000000004,
          58.68857142857143,
          58.53,
          57.74,
          56.79,
          56.47,
          55.565000000000005,
          54,
          52.48,
          52.38,
          52.12,
          51.43,
          51.300000000000004,
          51.26,
          50.68,
          48.78,
          46.158,
          45.46,
          43.87,
          41.55,
          41.47875,
          40.36,
          39.38,
          37.51,
          37.019999999999996,
          36.16,
          34.00969696969697,
          30.196666666666665,
          24.71,
          22.25
         ]
        }
       ],
       "layout": {
        "coloraxis": {
         "colorbar": {
          "title": {
           "text": "Leather_Business_Shoes_USD"
          }
         },
         "colorscale": [
          [
           0,
           "#440154"
          ],
          [
           0.1111111111111111,
           "#482878"
          ],
          [
           0.2222222222222222,
           "#3e4989"
          ],
          [
           0.3333333333333333,
           "#31688e"
          ],
          [
           0.4444444444444444,
           "#26828e"
          ],
          [
           0.5555555555555556,
           "#1f9e89"
          ],
          [
           0.6666666666666666,
           "#35b779"
          ],
          [
           0.7777777777777778,
           "#6ece58"
          ],
          [
           0.8888888888888888,
           "#b5de2b"
          ],
          [
           1,
           "#fde725"
          ]
         ]
        },
        "geo": {
         "center": {},
         "domain": {
          "x": [
           0,
           1
          ],
          "y": [
           0,
           1
          ]
         }
        },
        "legend": {
         "tracegroupgap": 0
        },
        "template": {
         "data": {
          "bar": [
           {
            "error_x": {
             "color": "#2a3f5f"
            },
            "error_y": {
             "color": "#2a3f5f"
            },
            "marker": {
             "line": {
              "color": "#E5ECF6",
              "width": 0.5
             },
             "pattern": {
              "fillmode": "overlay",
              "size": 10,
              "solidity": 0.2
             }
            },
            "type": "bar"
           }
          ],
          "barpolar": [
           {
            "marker": {
             "line": {
              "color": "#E5ECF6",
              "width": 0.5
             },
             "pattern": {
              "fillmode": "overlay",
              "size": 10,
              "solidity": 0.2
             }
            },
            "type": "barpolar"
           }
          ],
          "carpet": [
           {
            "aaxis": {
             "endlinecolor": "#2a3f5f",
             "gridcolor": "white",
             "linecolor": "white",
             "minorgridcolor": "white",
             "startlinecolor": "#2a3f5f"
            },
            "baxis": {
             "endlinecolor": "#2a3f5f",
             "gridcolor": "white",
             "linecolor": "white",
             "minorgridcolor": "white",
             "startlinecolor": "#2a3f5f"
            },
            "type": "carpet"
           }
          ],
          "choropleth": [
           {
            "colorbar": {
             "outlinewidth": 0,
             "ticks": ""
            },
            "type": "choropleth"
           }
          ],
          "contour": [
           {
            "colorbar": {
             "outlinewidth": 0,
             "ticks": ""
            },
            "colorscale": [
             [
              0,
              "#0d0887"
             ],
             [
              0.1111111111111111,
              "#46039f"
             ],
             [
              0.2222222222222222,
              "#7201a8"
             ],
             [
              0.3333333333333333,
              "#9c179e"
             ],
             [
              0.4444444444444444,
              "#bd3786"
             ],
             [
              0.5555555555555556,
              "#d8576b"
             ],
             [
              0.6666666666666666,
              "#ed7953"
             ],
             [
              0.7777777777777778,
              "#fb9f3a"
             ],
             [
              0.8888888888888888,
              "#fdca26"
             ],
             [
              1,
              "#f0f921"
             ]
            ],
            "type": "contour"
           }
          ],
          "contourcarpet": [
           {
            "colorbar": {
             "outlinewidth": 0,
             "ticks": ""
            },
            "type": "contourcarpet"
           }
          ],
          "heatmap": [
           {
            "colorbar": {
             "outlinewidth": 0,
             "ticks": ""
            },
            "colorscale": [
             [
              0,
              "#0d0887"
             ],
             [
              0.1111111111111111,
              "#46039f"
             ],
             [
              0.2222222222222222,
              "#7201a8"
             ],
             [
              0.3333333333333333,
              "#9c179e"
             ],
             [
              0.4444444444444444,
              "#bd3786"
             ],
             [
              0.5555555555555556,
              "#d8576b"
             ],
             [
              0.6666666666666666,
              "#ed7953"
             ],
             [
              0.7777777777777778,
              "#fb9f3a"
             ],
             [
              0.8888888888888888,
              "#fdca26"
             ],
             [
              1,
              "#f0f921"
             ]
            ],
            "type": "heatmap"
           }
          ],
          "heatmapgl": [
           {
            "colorbar": {
             "outlinewidth": 0,
             "ticks": ""
            },
            "colorscale": [
             [
              0,
              "#0d0887"
             ],
             [
              0.1111111111111111,
              "#46039f"
             ],
             [
              0.2222222222222222,
              "#7201a8"
             ],
             [
              0.3333333333333333,
              "#9c179e"
             ],
             [
              0.4444444444444444,
              "#bd3786"
             ],
             [
              0.5555555555555556,
              "#d8576b"
             ],
             [
              0.6666666666666666,
              "#ed7953"
             ],
             [
              0.7777777777777778,
              "#fb9f3a"
             ],
             [
              0.8888888888888888,
              "#fdca26"
             ],
             [
              1,
              "#f0f921"
             ]
            ],
            "type": "heatmapgl"
           }
          ],
          "histogram": [
           {
            "marker": {
             "pattern": {
              "fillmode": "overlay",
              "size": 10,
              "solidity": 0.2
             }
            },
            "type": "histogram"
           }
          ],
          "histogram2d": [
           {
            "colorbar": {
             "outlinewidth": 0,
             "ticks": ""
            },
            "colorscale": [
             [
              0,
              "#0d0887"
             ],
             [
              0.1111111111111111,
              "#46039f"
             ],
             [
              0.2222222222222222,
              "#7201a8"
             ],
             [
              0.3333333333333333,
              "#9c179e"
             ],
             [
              0.4444444444444444,
              "#bd3786"
             ],
             [
              0.5555555555555556,
              "#d8576b"
             ],
             [
              0.6666666666666666,
              "#ed7953"
             ],
             [
              0.7777777777777778,
              "#fb9f3a"
             ],
             [
              0.8888888888888888,
              "#fdca26"
             ],
             [
              1,
              "#f0f921"
             ]
            ],
            "type": "histogram2d"
           }
          ],
          "histogram2dcontour": [
           {
            "colorbar": {
             "outlinewidth": 0,
             "ticks": ""
            },
            "colorscale": [
             [
              0,
              "#0d0887"
             ],
             [
              0.1111111111111111,
              "#46039f"
             ],
             [
              0.2222222222222222,
              "#7201a8"
             ],
             [
              0.3333333333333333,
              "#9c179e"
             ],
             [
              0.4444444444444444,
              "#bd3786"
             ],
             [
              0.5555555555555556,
              "#d8576b"
             ],
             [
              0.6666666666666666,
              "#ed7953"
             ],
             [
              0.7777777777777778,
              "#fb9f3a"
             ],
             [
              0.8888888888888888,
              "#fdca26"
             ],
             [
              1,
              "#f0f921"
             ]
            ],
            "type": "histogram2dcontour"
           }
          ],
          "mesh3d": [
           {
            "colorbar": {
             "outlinewidth": 0,
             "ticks": ""
            },
            "type": "mesh3d"
           }
          ],
          "parcoords": [
           {
            "line": {
             "colorbar": {
              "outlinewidth": 0,
              "ticks": ""
             }
            },
            "type": "parcoords"
           }
          ],
          "pie": [
           {
            "automargin": true,
            "type": "pie"
           }
          ],
          "scatter": [
           {
            "fillpattern": {
             "fillmode": "overlay",
             "size": 10,
             "solidity": 0.2
            },
            "type": "scatter"
           }
          ],
          "scatter3d": [
           {
            "line": {
             "colorbar": {
              "outlinewidth": 0,
              "ticks": ""
             }
            },
            "marker": {
             "colorbar": {
              "outlinewidth": 0,
              "ticks": ""
             }
            },
            "type": "scatter3d"
           }
          ],
          "scattercarpet": [
           {
            "marker": {
             "colorbar": {
              "outlinewidth": 0,
              "ticks": ""
             }
            },
            "type": "scattercarpet"
           }
          ],
          "scattergeo": [
           {
            "marker": {
             "colorbar": {
              "outlinewidth": 0,
              "ticks": ""
             }
            },
            "type": "scattergeo"
           }
          ],
          "scattergl": [
           {
            "marker": {
             "colorbar": {
              "outlinewidth": 0,
              "ticks": ""
             }
            },
            "type": "scattergl"
           }
          ],
          "scattermapbox": [
           {
            "marker": {
             "colorbar": {
              "outlinewidth": 0,
              "ticks": ""
             }
            },
            "type": "scattermapbox"
           }
          ],
          "scatterpolar": [
           {
            "marker": {
             "colorbar": {
              "outlinewidth": 0,
              "ticks": ""
             }
            },
            "type": "scatterpolar"
           }
          ],
          "scatterpolargl": [
           {
            "marker": {
             "colorbar": {
              "outlinewidth": 0,
              "ticks": ""
             }
            },
            "type": "scatterpolargl"
           }
          ],
          "scatterternary": [
           {
            "marker": {
             "colorbar": {
              "outlinewidth": 0,
              "ticks": ""
             }
            },
            "type": "scatterternary"
           }
          ],
          "surface": [
           {
            "colorbar": {
             "outlinewidth": 0,
             "ticks": ""
            },
            "colorscale": [
             [
              0,
              "#0d0887"
             ],
             [
              0.1111111111111111,
              "#46039f"
             ],
             [
              0.2222222222222222,
              "#7201a8"
             ],
             [
              0.3333333333333333,
              "#9c179e"
             ],
             [
              0.4444444444444444,
              "#bd3786"
             ],
             [
              0.5555555555555556,
              "#d8576b"
             ],
             [
              0.6666666666666666,
              "#ed7953"
             ],
             [
              0.7777777777777778,
              "#fb9f3a"
             ],
             [
              0.8888888888888888,
              "#fdca26"
             ],
             [
              1,
              "#f0f921"
             ]
            ],
            "type": "surface"
           }
          ],
          "table": [
           {
            "cells": {
             "fill": {
              "color": "#EBF0F8"
             },
             "line": {
              "color": "white"
             }
            },
            "header": {
             "fill": {
              "color": "#C8D4E3"
             },
             "line": {
              "color": "white"
             }
            },
            "type": "table"
           }
          ]
         },
         "layout": {
          "annotationdefaults": {
           "arrowcolor": "#2a3f5f",
           "arrowhead": 0,
           "arrowwidth": 1
          },
          "autotypenumbers": "strict",
          "coloraxis": {
           "colorbar": {
            "outlinewidth": 0,
            "ticks": ""
           }
          },
          "colorscale": {
           "diverging": [
            [
             0,
             "#8e0152"
            ],
            [
             0.1,
             "#c51b7d"
            ],
            [
             0.2,
             "#de77ae"
            ],
            [
             0.3,
             "#f1b6da"
            ],
            [
             0.4,
             "#fde0ef"
            ],
            [
             0.5,
             "#f7f7f7"
            ],
            [
             0.6,
             "#e6f5d0"
            ],
            [
             0.7,
             "#b8e186"
            ],
            [
             0.8,
             "#7fbc41"
            ],
            [
             0.9,
             "#4d9221"
            ],
            [
             1,
             "#276419"
            ]
           ],
           "sequential": [
            [
             0,
             "#0d0887"
            ],
            [
             0.1111111111111111,
             "#46039f"
            ],
            [
             0.2222222222222222,
             "#7201a8"
            ],
            [
             0.3333333333333333,
             "#9c179e"
            ],
            [
             0.4444444444444444,
             "#bd3786"
            ],
            [
             0.5555555555555556,
             "#d8576b"
            ],
            [
             0.6666666666666666,
             "#ed7953"
            ],
            [
             0.7777777777777778,
             "#fb9f3a"
            ],
            [
             0.8888888888888888,
             "#fdca26"
            ],
            [
             1,
             "#f0f921"
            ]
           ],
           "sequentialminus": [
            [
             0,
             "#0d0887"
            ],
            [
             0.1111111111111111,
             "#46039f"
            ],
            [
             0.2222222222222222,
             "#7201a8"
            ],
            [
             0.3333333333333333,
             "#9c179e"
            ],
            [
             0.4444444444444444,
             "#bd3786"
            ],
            [
             0.5555555555555556,
             "#d8576b"
            ],
            [
             0.6666666666666666,
             "#ed7953"
            ],
            [
             0.7777777777777778,
             "#fb9f3a"
            ],
            [
             0.8888888888888888,
             "#fdca26"
            ],
            [
             1,
             "#f0f921"
            ]
           ]
          },
          "colorway": [
           "#636efa",
           "#EF553B",
           "#00cc96",
           "#ab63fa",
           "#FFA15A",
           "#19d3f3",
           "#FF6692",
           "#B6E880",
           "#FF97FF",
           "#FECB52"
          ],
          "font": {
           "color": "#2a3f5f"
          },
          "geo": {
           "bgcolor": "white",
           "lakecolor": "white",
           "landcolor": "#E5ECF6",
           "showlakes": true,
           "showland": true,
           "subunitcolor": "white"
          },
          "hoverlabel": {
           "align": "left"
          },
          "hovermode": "closest",
          "mapbox": {
           "style": "light"
          },
          "paper_bgcolor": "white",
          "plot_bgcolor": "#E5ECF6",
          "polar": {
           "angularaxis": {
            "gridcolor": "white",
            "linecolor": "white",
            "ticks": ""
           },
           "bgcolor": "#E5ECF6",
           "radialaxis": {
            "gridcolor": "white",
            "linecolor": "white",
            "ticks": ""
           }
          },
          "scene": {
           "xaxis": {
            "backgroundcolor": "#E5ECF6",
            "gridcolor": "white",
            "gridwidth": 2,
            "linecolor": "white",
            "showbackground": true,
            "ticks": "",
            "zerolinecolor": "white"
           },
           "yaxis": {
            "backgroundcolor": "#E5ECF6",
            "gridcolor": "white",
            "gridwidth": 2,
            "linecolor": "white",
            "showbackground": true,
            "ticks": "",
            "zerolinecolor": "white"
           },
           "zaxis": {
            "backgroundcolor": "#E5ECF6",
            "gridcolor": "white",
            "gridwidth": 2,
            "linecolor": "white",
            "showbackground": true,
            "ticks": "",
            "zerolinecolor": "white"
           }
          },
          "shapedefaults": {
           "line": {
            "color": "#2a3f5f"
           }
          },
          "ternary": {
           "aaxis": {
            "gridcolor": "white",
            "linecolor": "white",
            "ticks": ""
           },
           "baxis": {
            "gridcolor": "white",
            "linecolor": "white",
            "ticks": ""
           },
           "bgcolor": "#E5ECF6",
           "caxis": {
            "gridcolor": "white",
            "linecolor": "white",
            "ticks": ""
           }
          },
          "title": {
           "x": 0.05
          },
          "xaxis": {
           "automargin": true,
           "gridcolor": "white",
           "linecolor": "white",
           "ticks": "",
           "title": {
            "standoff": 15
           },
           "zerolinecolor": "white",
           "zerolinewidth": 2
          },
          "yaxis": {
           "automargin": true,
           "gridcolor": "white",
           "linecolor": "white",
           "ticks": "",
           "title": {
            "standoff": 15
           },
           "zerolinecolor": "white",
           "zerolinewidth": 2
          }
         }
        },
        "title": {
         "text": "Average Cost Index by Country"
        }
       }
      }
     },
     "metadata": {},
     "output_type": "display_data"
    }
   ],
   "source": [
    "fig = px.choropleth(country_avg, locations=\"country\", locationmode=\"country names\",\n",
    "                    color=\"Leather_Business_Shoes_USD\", hover_name=\"country\",\n",
    "                    color_continuous_scale=\"Viridis\",\n",
    "                    title=\"Average Cost Index by Country\")\n",
    "fig.show()\n"
   ]
  },
  {
   "cell_type": "markdown",
   "id": "2e0595dc",
   "metadata": {},
   "source": [
    "## 💾 Save Cleaned Data"
   ]
  },
  {
   "cell_type": "code",
   "execution_count": 18,
   "id": "3d7244e0",
   "metadata": {},
   "outputs": [
    {
     "name": "stdout",
     "output_type": "stream",
     "text": [
      "Saved cleaned dataset.\n"
     ]
    }
   ],
   "source": [
    "\n",
    "df.to_csv(\"cost_of_living_clean.csv\", index=False)\n",
    "print(\"Saved cleaned dataset.\")\n"
   ]
  }
 ],
 "metadata": {
  "kernelspec": {
   "display_name": "Python 3",
   "language": "python",
   "name": "python3"
  },
  "language_info": {
   "codemirror_mode": {
    "name": "ipython",
    "version": 3
   },
   "file_extension": ".py",
   "mimetype": "text/x-python",
   "name": "python",
   "nbconvert_exporter": "python",
   "pygments_lexer": "ipython3",
   "version": "3.12.6"
  }
 },
 "nbformat": 4,
 "nbformat_minor": 5
}
